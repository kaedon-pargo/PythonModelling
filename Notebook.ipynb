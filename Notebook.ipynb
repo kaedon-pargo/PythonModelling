{
 "cells": [
  {
   "cell_type": "markdown",
   "id": "emerging-guard",
   "metadata": {},
   "source": [
    "**The Zen of Python**"
   ]
  },
  {
   "cell_type": "markdown",
   "id": "central-christopher",
   "metadata": {},
   "source": [
    "- Beautiful is better than ugly.\n",
    "- Explicit is better than implicit.\n",
    "- Simple is better than complex.\n",
    "- Complex is better than complicated.\n",
    "- Flat is better than nested.\n",
    "- Sparse is better than dense.\n",
    "- Readability counts.\n",
    "- Special cases aren't special enough to break the rules.\n",
    "- Although practicality beats purity.\n",
    "- Errors should never pass silently.\n",
    "- Unless explicitly silenced.\n",
    "- In the face of ambiguity, refuse the temptation to guess.\n",
    "- There should be one-- and preferably only one --obvious way - to do it.\n",
    "- Although that way may not be obvious at first unless you're - Dutch.\n",
    "- Now is better than never.\n",
    "- Although never is often better than *right* now.\n",
    "- If the implementation is hard to explain, it's a bad idea.\n",
    "- If the implementation is easy to explain, it may be a good - idea.\n",
    "- Namespaces are one honking great idea -- let's do more of - those!"
   ]
  },
  {
   "cell_type": "markdown",
   "id": "lonely-development",
   "metadata": {},
   "source": [
    "**Common Imports**"
   ]
  },
  {
   "cell_type": "markdown",
   "id": "sustainable-burst",
   "metadata": {},
   "source": [
    "The code below shows some of the commonly used imports for working with data in Python\n",
    "\n",
    "Numpy is a library which allows for working with large arrays of data very quickly and easily\n",
    "\n",
    "Scipy is a scientific library for data analysis, which we'll just be using one function from, but many more exist for doing many basic and complex types of analysis.\n",
    "\n",
    "Matplotlib is a plotting library for generating graphs of various kinds. If you install matplotlib locally, these graphs can easily be saved to many different file types and allows for zooming and panning around the graph before saving."
   ]
  },
  {
   "cell_type": "code",
   "execution_count": null,
   "id": "sunset-terrorism",
   "metadata": {},
   "outputs": [],
   "source": [
    "import numpy as np\n",
    "import scipy as sc\n",
    "import matplotlib.pyplot as plt"
   ]
  },
  {
   "cell_type": "markdown",
   "id": "demanding-portland",
   "metadata": {},
   "source": [
    "**Some Numpy Basics**  \n",
    "When using numpy arrays, operations are performed elementwise if it makes sense to do so  \n",
    "This allows for some neat code, as shown below"
   ]
  },
  {
   "cell_type": "code",
   "execution_count": null,
   "id": "dependent-comfort",
   "metadata": {},
   "outputs": [],
   "source": [
    "import numpy as np\n",
    "\n",
    "x = np.arange(10)\n",
    "print(x)\n",
    "print(10*x)\n",
    "print(x+10)"
   ]
  },
  {
   "cell_type": "markdown",
   "id": "ruled-factory",
   "metadata": {},
   "source": [
    "When doing operations between arrays, operations are performed per element in each"
   ]
  },
  {
   "cell_type": "code",
   "execution_count": null,
   "id": "empty-patio",
   "metadata": {},
   "outputs": [],
   "source": [
    "import numpy as np\n",
    "\n",
    "x = np.arange(10)\n",
    "y = np.arange(10)\n",
    "\n",
    "print(x*y)\n",
    "print(x+y)"
   ]
  },
  {
   "cell_type": "markdown",
   "id": "dutch-experiment",
   "metadata": {},
   "source": [
    "**Starting Out Graphing**"
   ]
  },
  {
   "cell_type": "markdown",
   "id": "posted-builder",
   "metadata": {},
   "source": [
    "We'll start out by doing a basic plot using matplotlib, specifically pyplot.\n",
    "These imports are hidden inside of the grapher class to make things a little neater\n",
    "\n",
    "I've also made some helper functions for generating data\n",
    "The linearData function returns three things:\n",
    " - An array of x co-ordinates\n",
    " - An array of y co-ordinates\n",
    " - The function that this data is based on\n",
    "\n",
    "The data that this returns has some random noise added to prevent it just being a perfect straight line (and to give us a reason for modelling later)"
   ]
  },
  {
   "cell_type": "code",
   "execution_count": null,
   "id": "further-ireland",
   "metadata": {},
   "outputs": [],
   "source": [
    "from grapher import *\n",
    "\n",
    "x, y, f = linearData()\n",
    "\n",
    "plt.scatter(x, y)\n",
    "plt.plot(x, f(x), 'g')"
   ]
  },
  {
   "cell_type": "markdown",
   "id": "paperback-speech",
   "metadata": {},
   "source": [
    "The above code should have generated a scatter plot of the linear function, as well as a green line showing the function that generated this data without noise. Try changing the 'g' in the above code to an 'r' if you prefer the colour red to green.  \n",
    "Your options here are b, g, r, c, m, y, k and w for various different colours"
   ]
  },
  {
   "cell_type": "markdown",
   "id": "decent-latest",
   "metadata": {},
   "source": [
    "If you want to play around with the above code, the linearData function accepts a few parameters, defaults shown below. \n",
    "\n",
    "**Linear Data information**\n",
    "\n",
    "linearData(n=100, m=2, c=5):\n",
    " - n is the number of data points to generate \n",
    " - m is the slope of the function (Increase this number to make the graph steeper) \n",
    " - c is the y offset of the function (Increase this number to lift the graph up)"
   ]
  },
  {
   "cell_type": "markdown",
   "id": "turkish-ethiopia",
   "metadata": {},
   "source": [
    "You can also swap out the linear function for quadratic data if you'd prefer, this also has a couple options for parameters."
   ]
  },
  {
   "cell_type": "markdown",
   "id": "alert-profession",
   "metadata": {},
   "source": [
    "**Quadratic Data information**  \n",
    "quadraticData(n=100, a=1, b=0, c=0):\n",
    " - n is the number of data points to generate \n",
    " - a-c are the coefficients for the quadratic function as shown below\n",
    " \n",
    " $a\\cdot x^2 + b\\cdot x + c$"
   ]
  },
  {
   "cell_type": "markdown",
   "id": "universal-turning",
   "metadata": {},
   "source": [
    "**Basic modelling**  \n",
    "Now we'll move on to a basic model  \n",
    "We're going to generate some linear data, and then try to fit a linear model to it \n",
    "To anyone who has done stats, this may seem like a solved problem, but we're going to start here as a basic example and move to more complex functions later  \n",
    "\n",
    "We'll first generate our data set, then use curve_fit to find the values used to generate the function, then plot these to show the results"
   ]
  },
  {
   "cell_type": "code",
   "execution_count": null,
   "id": "changed-relaxation",
   "metadata": {},
   "outputs": [],
   "source": [
    "from grapher import *\n",
    "\n",
    "n = 100\n",
    "m = 2\n",
    "c = 5\n",
    "\n",
    "x, y, f = linearData(n,m,c)\n",
    "fitFunction = linearFunction\n",
    "\n",
    "parameters, __ = curve_fit(fitFunction, x, y)\n",
    "\n",
    "print(\"Fits:\")\n",
    "print(\"m: %.2f\" % parameters[0])\n",
    "print(\"c: %.2f\" % parameters[1])\n",
    "print(\"Actual values:\")\n",
    "print(\"m: %.2f\" % m)\n",
    "print(\"c: %.2f\" % c)\n",
    "\n",
    "plt.title('Data vs fit')\n",
    "plt.scatter(x,y)\n",
    "plt.plot(x, fitFunction(x, *parameters), 'r')\n",
    "plt.show()\n",
    "\n",
    "plt.title('Function vs fit')\n",
    "plt.plot(x, fitFunction(x, *parameters), 'r')\n",
    "plt.plot(x, f(x))"
   ]
  },
  {
   "cell_type": "markdown",
   "id": "excessive-symphony",
   "metadata": {},
   "source": [
    "To adjust what's being fit in the above, just change the data and the function\n",
    "Like earlier, I've also made a quadraticFunction for fitting there\n",
    "You can play around with variables as well\n",
    "\n",
    "**Slightly more complex fitting**  \n",
    "Now to a more interesting fit, a sin function\n",
    "\n",
    "sinData(n=100, a=1, b=1, c=0):\n",
    " - n is the number of data points to generate \n",
    " - a-c are the coefficients for the sin function as shown below\n",
    " \n",
    " $a\\cdot\\sin(b\\cdot x + c)$\n",
    " \n",
    " You can play around with the parameters again, an interesting one to adjust here is n. Note that n can't be less than 3, as we're trying to fit 3 parameters. (Try it at a low number, around 5-10)"
   ]
  },
  {
   "cell_type": "code",
   "execution_count": null,
   "id": "medical-leeds",
   "metadata": {},
   "outputs": [],
   "source": [
    "from grapher import *\n",
    "\n",
    "n = 10\n",
    "a = 5\n",
    "c = 0.5\n",
    "\n",
    "# It's not very good at fitting this one :)\n",
    "b = 1\n",
    "\n",
    "x, y, f = sinData(n,a,b,c)\n",
    "fitFunction = sinFunction\n",
    "\n",
    "parameters, __ = curve_fit(fitFunction, x, y)\n",
    "\n",
    "print(\"Fits:\")\n",
    "print(\"a: %.2f\" % parameters[0])\n",
    "print(\"b: %.2f\" % parameters[1])\n",
    "print(\"c: %.2f\" % parameters[2])\n",
    "print(\"Actual values:\")\n",
    "print(\"a: %.2f\" % a)\n",
    "print(\"b: %.2f\" % b)\n",
    "print(\"c: %.2f\" % c)\n",
    "\n",
    "#replace x with altx in the plotting if you want to see a smooth sin curve even with few data points\n",
    "altx = np.linspace(-4,10,1000)\n",
    "\n",
    "plt.title('Data vs fit')\n",
    "plt.scatter(x,y)\n",
    "plt.plot(x, fitFunction(x, *parameters), 'r')\n",
    "plt.show()\n",
    "\n",
    "plt.title('Function vs fit')\n",
    "plt.plot(x, fitFunction(x, *parameters), 'r')\n",
    "plt.plot(x, f(x))"
   ]
  },
  {
   "cell_type": "markdown",
   "id": "careful-concentrate",
   "metadata": {},
   "source": [
    "This one is a lot more finicky, and stretches the limits of how curve fit is being used here.  \n",
    "There are ways to improve this performance, but I think they're out of scope here as they require a bit of a better data setup and some knowledge of experimental data processing. I'd be glad to chat about them if anyone is interested!\n",
    "\n",
    "You can use this to fit any function you want, as shown throughout this workbook  \n",
    "The code below shows the format of the functions that were used to generate data and used for fitting throughout"
   ]
  },
  {
   "cell_type": "code",
   "execution_count": null,
   "id": "wanted-appraisal",
   "metadata": {},
   "outputs": [],
   "source": [
    "from grapher import *\n",
    "\n",
    "def linearData(n=100, m=2, c=5):\n",
    "\tx = np.arange(n)\n",
    "\t\n",
    "\ty = randomArray(n,0.9,1.1)*(x*m + c)\n",
    "\ty = y + randomArray(n, -10, 10)\n",
    "\n",
    "\tf = lambda x: x*m+c\n",
    "\n",
    "\treturn x,y,f\n",
    "\n",
    "def linearFunction(x, m=2, c=5):\n",
    "\treturn x*m +c"
   ]
  }
 ],
 "metadata": {
  "kernelspec": {
   "display_name": "Python 3",
   "language": "python",
   "name": "python3"
  },
  "language_info": {
   "codemirror_mode": {
    "name": "ipython",
    "version": 3
   },
   "file_extension": ".py",
   "mimetype": "text/x-python",
   "name": "python",
   "nbconvert_exporter": "python",
   "pygments_lexer": "ipython3",
   "version": "3.7.10"
  }
 },
 "nbformat": 4,
 "nbformat_minor": 5
}
