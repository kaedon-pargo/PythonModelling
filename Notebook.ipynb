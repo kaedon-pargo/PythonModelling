{
 "cells": [
  {
   "cell_type": "markdown",
   "id": "emerging-guard",
   "metadata": {},
   "source": [
    "**The Zen of Python**"
   ]
  },
  {
   "cell_type": "markdown",
   "id": "central-christopher",
   "metadata": {},
   "source": [
    "- Beautiful is better than ugly.\n",
    "- Explicit is better than implicit.\n",
    "- Simple is better than complex.\n",
    "- Complex is better than complicated.\n",
    "- Flat is better than nested.\n",
    "- Sparse is better than dense.\n",
    "- Readability counts.\n",
    "- Special cases aren't special enough to break the rules.\n",
    "- Although practicality beats purity.\n",
    "- Errors should never pass silently.\n",
    "- Unless explicitly silenced.\n",
    "- In the face of ambiguity, refuse the temptation to guess.\n",
    "- There should be one-- and preferably only one --obvious way - to do it.\n",
    "- Although that way may not be obvious at first unless you're - Dutch.\n",
    "- Now is better than never.\n",
    "- Although never is often better than *right* now.\n",
    "- If the implementation is hard to explain, it's a bad idea.\n",
    "- If the implementation is easy to explain, it may be a good - idea.\n",
    "- Namespaces are one honking great idea -- let's do more of - those!"
   ]
  },
  {
   "cell_type": "markdown",
   "id": "lonely-development",
   "metadata": {},
   "source": [
    "**Common Imports**"
   ]
  },
  {
   "cell_type": "markdown",
   "id": "sustainable-burst",
   "metadata": {},
   "source": [
    "The code below shows some of the commonly used imports for working with data in Python\n",
    "\n",
    "Numpy is a library which allows for working with large arrays of data very quickly and easily\n",
    "\n",
    "Scipy is a scientific library for data analysis, which we'll just be using one function from, but many more exist for doing many basic and complex types of analysis.\n",
    "\n",
    "Matplotlib is a plotting library for generating graphs of various kinds. If you install matplotlib locally, these graphs can easily be saved to many different file types and allows for zooming and panning around the graph before saving."
   ]
  },
  {
   "cell_type": "code",
   "execution_count": 2,
   "id": "sunset-terrorism",
   "metadata": {},
   "outputs": [],
   "source": [
    "import numpy as np\n",
    "import scipy as sc\n",
    "import matplotlib.pyplot as plt"
   ]
  },
  {
   "cell_type": "markdown",
   "id": "dutch-experiment",
   "metadata": {},
   "source": [
    "**Starting Out**"
   ]
  },
  {
   "cell_type": "markdown",
   "id": "posted-builder",
   "metadata": {},
   "source": [
    "We'll start out by doing a basic plot using matplotlib, specifically pyplot.\n",
    "These imports are hidden inside of the grapher class to make things a little neater\n",
    "\n",
    "I've also made some helper functions for generating data\n",
    "The linearData function returns three things:\n",
    " - An array of x co-ordinates\n",
    " - An array of y co-ordinates\n",
    " - The function that this data is based on\n",
    "\n",
    "The data that this returns has some random noise added to prevent it just being a perfect straight line (and to give us a reason for modelling later)"
   ]
  },
  {
   "cell_type": "code",
   "execution_count": 4,
   "id": "further-ireland",
   "metadata": {},
   "outputs": [
    {
     "data": {
      "text/plain": [
       "[<matplotlib.lines.Line2D at 0x7fe6fd600290>]"
      ]
     },
     "execution_count": 4,
     "metadata": {},
     "output_type": "execute_result"
    },
    {
     "data": {
      "image/png": "[encoded data removed]",
      "text/plain": [
       "<Figure size 432x288 with 1 Axes>"
      ]
     },
     "metadata": {
      "needs_background": "light"
     },
     "output_type": "display_data"
    }
   ],
   "source": [
    "from grapher import *\n",
    "\n",
    "x, y, f = linearData()\n",
    "\n",
    "plt.scatter(x, y)\n",
    "plt.plot(x, f(x), 'g')"
   ]
  },
  {
   "cell_type": "markdown",
   "id": "paperback-speech",
   "metadata": {},
   "source": [
    "The above code should have generated a scatter plot of the linear function, as well as a green line showing the function that generated this data without noise. Try changing the 'g' in the above code to an 'r' if you prefer the colour red to green.  \n",
    "Your options here are b, g, r, c, m, y, k and w for various different colours"
   ]
  },
  {
   "cell_type": "markdown",
   "id": "decent-latest",
   "metadata": {},
   "source": [
    "If you want to play around with the above code, the linearData function accepts a few parameters, defaults shown below. \n",
    "\n",
    "**Linear Data information**\n",
    "\n",
    "linearData(n=100, m=2, c=5):\n",
    " - n is the number of data points to generate \n",
    " - m is the slope of the function (Increase this number to make the graph steeper) \n",
    " - c is the y offset of the function (Increase this number to lift the graph up)"
   ]
  },
  {
   "cell_type": "markdown",
   "id": "turkish-ethiopia",
   "metadata": {},
   "source": [
    "You can also swap out the linear function for quadratic data if you'd prefer, this also has a couple options for parameters."
   ]
  },
  {
   "cell_type": "markdown",
   "id": "alert-profession",
   "metadata": {},
   "source": [
    "**Quadratic Data information**  \n",
    "quadraticData(n=100, a=1, b=0, c=0):\n",
    " - n is the number of data points to generate \n",
    " - a-c are the coefficients for the quadratic function as shown below\n",
    " \n",
    " $a\\cdot x^2 + b\\cdot x + c$"
   ]
  },
  {
   "cell_type": "code",
   "execution_count": 1,
   "id": "changed-relaxation",
   "metadata": {},
   "outputs": [
    {
     "ename": "ModuleNotFoundError",
     "evalue": "No module named 'scipy.optimize.curve_fit'",
     "output_type": "error",
     "traceback": [
      "\u001b[0;31m---------------------------------------------------------------------------\u001b[0m",
      "\u001b[0;31mModuleNotFoundError\u001b[0m                       Traceback (most recent call last)",
      "\u001b[0;32m<ipython-input-1-6adb53edbdcf>\u001b[0m in \u001b[0;36m<module>\u001b[0;34m\u001b[0m\n\u001b[0;32m----> 1\u001b[0;31m \u001b[0;32mfrom\u001b[0m \u001b[0mgrapher\u001b[0m \u001b[0;32mimport\u001b[0m \u001b[0;34m*\u001b[0m\u001b[0;34m\u001b[0m\u001b[0;34m\u001b[0m\u001b[0m\n\u001b[0m\u001b[1;32m      2\u001b[0m \u001b[0;34m\u001b[0m\u001b[0m\n\u001b[1;32m      3\u001b[0m \u001b[0mx\u001b[0m\u001b[0;34m,\u001b[0m \u001b[0my\u001b[0m\u001b[0;34m,\u001b[0m \u001b[0mf\u001b[0m \u001b[0;34m=\u001b[0m \u001b[0mlinearData\u001b[0m\u001b[0;34m(\u001b[0m\u001b[0;34m)\u001b[0m\u001b[0;34m\u001b[0m\u001b[0;34m\u001b[0m\u001b[0m\n\u001b[1;32m      4\u001b[0m \u001b[0;34m\u001b[0m\u001b[0m\n\u001b[1;32m      5\u001b[0m \u001b[0mparameters\u001b[0m\u001b[0;34m,\u001b[0m \u001b[0m__\u001b[0m \u001b[0;34m=\u001b[0m \u001b[0mcurve_fit\u001b[0m\u001b[0;34m(\u001b[0m\u001b[0mlinearFunction\u001b[0m\u001b[0;34m,\u001b[0m \u001b[0mx\u001b[0m\u001b[0;34m,\u001b[0m \u001b[0my\u001b[0m\u001b[0;34m)\u001b[0m\u001b[0;34m\u001b[0m\u001b[0;34m\u001b[0m\u001b[0m\n",
      "\u001b[0;32m~/grapher.py\u001b[0m in \u001b[0;36m<module>\u001b[0;34m\u001b[0m\n\u001b[1;32m      1\u001b[0m \u001b[0;32mimport\u001b[0m \u001b[0mnumpy\u001b[0m \u001b[0;32mas\u001b[0m \u001b[0mnp\u001b[0m\u001b[0;34m\u001b[0m\u001b[0;34m\u001b[0m\u001b[0m\n\u001b[0;32m----> 2\u001b[0;31m \u001b[0;32mimport\u001b[0m \u001b[0mscipy\u001b[0m\u001b[0;34m.\u001b[0m\u001b[0moptimize\u001b[0m\u001b[0;34m.\u001b[0m\u001b[0mcurve_fit\u001b[0m \u001b[0;32mas\u001b[0m \u001b[0mcurve_fit\u001b[0m\u001b[0;34m\u001b[0m\u001b[0;34m\u001b[0m\u001b[0m\n\u001b[0m\u001b[1;32m      3\u001b[0m \u001b[0;32mimport\u001b[0m \u001b[0mmatplotlib\u001b[0m\u001b[0;34m.\u001b[0m\u001b[0mpyplot\u001b[0m \u001b[0;32mas\u001b[0m \u001b[0mplt\u001b[0m\u001b[0;34m\u001b[0m\u001b[0;34m\u001b[0m\u001b[0m\n\u001b[1;32m      4\u001b[0m \u001b[0;34m\u001b[0m\u001b[0m\n\u001b[1;32m      5\u001b[0m \u001b[0;32mdef\u001b[0m \u001b[0mlinearData\u001b[0m\u001b[0;34m(\u001b[0m\u001b[0mn\u001b[0m\u001b[0;34m=\u001b[0m\u001b[0;36m100\u001b[0m\u001b[0;34m,\u001b[0m \u001b[0mm\u001b[0m\u001b[0;34m=\u001b[0m\u001b[0;36m2\u001b[0m\u001b[0;34m,\u001b[0m \u001b[0mc\u001b[0m\u001b[0;34m=\u001b[0m\u001b[0;36m5\u001b[0m\u001b[0;34m)\u001b[0m\u001b[0;34m:\u001b[0m\u001b[0;34m\u001b[0m\u001b[0;34m\u001b[0m\u001b[0m\n",
      "\u001b[0;31mModuleNotFoundError\u001b[0m: No module named 'scipy.optimize.curve_fit'"
     ]
    }
   ],
   "source": [
    "from grapher import *\n",
    "\n",
    "x, y, f = linearData()\n",
    "\n",
    "parameters, __ = curve_fit(linearFunction, x, y)"
   ]
  },
  {
   "cell_type": "code",
   "execution_count": null,
   "id": "medical-leeds",
   "metadata": {},
   "outputs": [],
   "source": []
  }
 ],
 "metadata": {
  "kernelspec": {
   "display_name": "Python 3",
   "language": "python",
   "name": "python3"
  },
  "language_info": {
   "codemirror_mode": {
    "name": "ipython",
    "version": 3
   },
   "file_extension": ".py",
   "mimetype": "text/x-python",
   "name": "python",
   "nbconvert_exporter": "python",
   "pygments_lexer": "ipython3",
   "version": "3.7.10"
  }
 },
 "nbformat": 4,
 "nbformat_minor": 5
}
